{
 "cells": [
  {
   "cell_type": "code",
   "execution_count": 4,
   "metadata": {},
   "outputs": [
    {
     "name": "stdout",
     "output_type": "stream",
     "text": [
      "Are you a cigarette addict older than 75 years old? yes/no : yes\n",
      "Do you have a severe chronic disease? Variable ?yes/no : no\n",
      "Is your immune system too weak?Yes/no : no\n",
      "You are  in risky group\n"
     ]
    }
   ],
   "source": [
    "\n",
    "age = str(input(\"Are you a cigarette addict older than 75 years old? yes/no : \")) \n",
    "chronic = str(input(\"Do you have a severe chronic disease? Variable ?yes/no : \"))\n",
    "immunie = str(input(\"Is your immune system too weak?Yes/no : \")) \n",
    "\n",
    "if (age == \"yes\") or (chronic == \"yes\") or (immunie == \"yes\")  :\n",
    "    \n",
    "    print(\"You are  in risky group\")\n",
    "else :\n",
    "    print(\"You are not in risky group\")\n"
   ]
  },
  {
   "cell_type": "code",
   "execution_count": null,
   "metadata": {},
   "outputs": [],
   "source": []
  },
  {
   "cell_type": "code",
   "execution_count": null,
   "metadata": {},
   "outputs": [],
   "source": []
  }
 ],
 "metadata": {
  "kernelspec": {
   "display_name": "Python 3",
   "language": "python",
   "name": "python3"
  },
  "language_info": {
   "codemirror_mode": {
    "name": "ipython",
    "version": 3
   },
   "file_extension": ".py",
   "mimetype": "text/x-python",
   "name": "python",
   "nbconvert_exporter": "python",
   "pygments_lexer": "ipython3",
   "version": "3.7.6"
  }
 },
 "nbformat": 4,
 "nbformat_minor": 4
}
