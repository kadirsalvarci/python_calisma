{
 "cells": [
  {
   "cell_type": "code",
   "execution_count": null,
   "metadata": {},
   "outputs": [],
   "source": [
    "\n",
    "age = str(input(\"Are you a cigarette addict older than 75 years old? yes/no : \")) \n",
    "chronic = str(input(\"Do you have a severe chronic disease? Variable ?yes/no : \"))\n",
    "immunie = str(input(\"Is your immune system too weak?Yes/no : \")) \n",
    "\n",
    "if (age == \"yes\") or (chronic == \"yes\") or (immunie == \"yes\")  :\n",
    "    \n",
    "    print(\"You are  in risky group\")\n",
    "else :\n",
    "    print(\"You are not in risky group\")\n"
   ]
  },
  {
   "cell_type": "code",
   "execution_count": null,
   "metadata": {},
   "outputs": [],
   "source": [
    "print(\"kadir\\nsalvarcioglu\")\n"
   ]
  },
  {
   "cell_type": "code",
   "execution_count": null,
   "metadata": {},
   "outputs": [],
   "source": [
    "print(\"12\",\"12\",\"1983\", sep = \"-\")"
   ]
  },
  {
   "cell_type": "code",
   "execution_count": null,
   "metadata": {},
   "outputs": [],
   "source": [
    "print(\"{},{}\".format(1, 2))"
   ]
  },
  {
   "cell_type": "code",
   "execution_count": null,
   "metadata": {},
   "outputs": [],
   "source": [
    "a=3\n",
    "b=3.14\n",
    "c = \"python\"\n",
    "liste = [1,2,3,4,\"Python\"]\n",
    "touple =(1,2,3,4,\"Python\")\n",
    "sozluk={\"elma\":3, \"armut\":4, \"kiraz\":5}\n",
    "booli=False\n",
    "print(type(a))\n",
    "print(type(c))\n",
    "print(type(b))\n",
    "print(type(liste))\n",
    "print(type(touple))\n",
    "print(type(sozluk))\n",
    "print(type(booli))\n",
    "print(a,b,c)"
   ]
  },
  {
   "cell_type": "code",
   "execution_count": null,
   "metadata": {},
   "outputs": [],
   "source": [
    "print(3+4)"
   ]
  },
  {
   "cell_type": "code",
   "execution_count": null,
   "metadata": {},
   "outputs": [],
   "source": [
    "print(10*3, 10-2, 10//2,10/2, 10+3, 10%3)"
   ]
  },
  {
   "cell_type": "code",
   "execution_count": null,
   "metadata": {},
   "outputs": [],
   "source": [
    "a=\"veli\"\n",
    "b=\"ali\"\n",
    "c=\"okul\"\n",
    "d=a+b+c\n",
    "print(d*5)"
   ]
  },
  {
   "cell_type": "code",
   "execution_count": null,
   "metadata": {},
   "outputs": [],
   "source": [
    "a =\"python\"\n",
    "b =list(range(11))\n",
    "print(a[0])\n",
    "print(a[2])\n",
    "print(len(a))\n",
    "print(a[len(a)-1])\n",
    "print(a[2:])\n",
    "print(b[:2:1])"
   ]
  },
  {
   "cell_type": "code",
   "execution_count": null,
   "metadata": {},
   "outputs": [],
   "source": [
    "#sozluk\n",
    "a ={\"elma\":3,\"armut\":4, \"kiraz\":5}\n",
    "print(a[\"elma\"],a[\"armut\"], sep=\"\\n\")\n"
   ]
  },
  {
   "cell_type": "code",
   "execution_count": null,
   "metadata": {},
   "outputs": [],
   "source": [
    "#input \n",
    "yas = input(\"yasinizi giriniz :\")\n",
    "print(\"yasiniz\", yas, sep=\"\\n\")"
   ]
  },
  {
   "cell_type": "code",
   "execution_count": null,
   "metadata": {},
   "outputs": [],
   "source": [
    "a = input(\"a :\")\n",
    "b = input(\"b :\")\n",
    "c = input(\"c :\")\n",
    "#print(\"toplam :\", a+b+c) bu toplam 344 yazyr cunlu strgin "
   ]
  },
  {
   "cell_type": "code",
   "execution_count": null,
   "metadata": {},
   "outputs": [],
   "source": [
    "a = int(input(\"a :\"))\n",
    "b = int(input(\"b :\"))\n",
    "c = int(input(\"c :\"))\n",
    "print(\"toplam :\", a+b+c)"
   ]
  },
  {
   "cell_type": "code",
   "execution_count": null,
   "metadata": {},
   "outputs": [],
   "source": [
    "#if ler \n",
    "yas = int(input(\"yasinizi giriniz :\"))\n",
    "if yas < 18 :\n",
    "    print(\"giremezsin\")\n",
    "else :\n",
    "    print(\"hosgeldiniz\")\n"
   ]
  },
  {
   "cell_type": "code",
   "execution_count": null,
   "metadata": {},
   "outputs": [],
   "source": [
    "islem = int(input(\"islemi giriniz\"))\n",
    "if islem ==1:\n",
    "    print(\"islem 1' i sectiniz\")\n",
    "elif islem ==2:\n",
    "    print(\"islem 2' i sectiniz\")\n",
    "elif islem ==3 :\n",
    "    print(\"islem 3' i sectiniz\")\n",
    "else :\n",
    "    print(\"gecersiz islem \")"
   ]
  },
  {
   "cell_type": "code",
   "execution_count": null,
   "metadata": {},
   "outputs": [],
   "source": [
    "#mantiksal oparoterler and or ve not\n",
    "a = 3\n",
    "b = 4\n",
    "if a == 3 and b == 5 :\n",
    "    print(\"evet\")\n",
    "else :\n",
    "    print(\"hayir\")\n",
    "    \n"
   ]
  },
  {
   "cell_type": "code",
   "execution_count": null,
   "metadata": {},
   "outputs": [],
   "source": [
    "#mantiksal oparoterler and or ve not\n",
    "a = 3\n",
    "b = 4\n",
    "if a == 3 or b == 5 :\n",
    "    print(\"evet\")\n",
    "else :\n",
    "    print(\"hayir\")"
   ]
  },
  {
   "cell_type": "code",
   "execution_count": null,
   "metadata": {},
   "outputs": [],
   "source": [
    "if (not (2==4)) : #sonuc false ama not false true oldugundad if de true ise yazdiriyor \n",
    "    print(\"evet\")\n",
    "    \n"
   ]
  },
  {
   "cell_type": "code",
   "execution_count": null,
   "metadata": {},
   "outputs": [],
   "source": [
    "#dongu yapilari  while surekli bir dongu kosul dogru ise devamliyalisiyor \n",
    "i = 0\n",
    "while i < 10 :\n",
    "    print(\"i:\", i)\n",
    "    i = i + 1 # veya i += 1 de olur i 2 serli yada 3 erli syam gibi\n",
    "\n",
    "    "
   ]
  },
  {
   "cell_type": "code",
   "execution_count": null,
   "metadata": {},
   "outputs": [],
   "source": [
    "i  = 1\n",
    "while i <1000 :\n",
    "    print(\"i :\", i)\n",
    "    i *=2\n",
    "    \n"
   ]
  },
  {
   "cell_type": "code",
   "execution_count": null,
   "metadata": {},
   "outputs": [],
   "source": [
    "#break and continue\n",
    "i = 0                               #dorde kadar gitti 5 de sonlandirdik \n",
    "while (i<10) :\n",
    "    if i == 5 :\n",
    "        break\n",
    "    print (\"i :\", i)\n",
    "    i +=1"
   ]
  },
  {
   "cell_type": "code",
   "execution_count": 1,
   "metadata": {},
   "outputs": [
    {
     "name": "stdout",
     "output_type": "stream",
     "text": [
      "i : 0\n",
      "i : 1\n",
      "i : 2\n",
      "i : 4\n",
      "i : 6\n",
      "i : 7\n",
      "i : 8\n",
      "i : 9\n"
     ]
    }
   ],
   "source": [
    "i = 0                               #dorde kadar gitti 5 de sonlandirdik aslinda burda devamli donuyor \n",
    "while (i<10) :\n",
    "    if i == 3 or i ==5 :       # burda 3 ve 5 i atlayip yazdi\n",
    "        i += 1\n",
    "        continue\n",
    "    print (\"i :\", i)          \n",
    "    i +=1"
   ]
  },
  {
   "cell_type": "code",
   "execution_count": 6,
   "metadata": {},
   "outputs": [
    {
     "name": "stdout",
     "output_type": "stream",
     "text": [
      "1\n",
      "2\n",
      "3\n",
      "4\n",
      "5\n",
      "6\n"
     ]
    }
   ],
   "source": [
    "# for \n",
    "a = list(range(1,7))\n",
    "a\n",
    "for eleman in a :\n",
    "    print(eleman)"
   ]
  },
  {
   "cell_type": "code",
   "execution_count": 7,
   "metadata": {},
   "outputs": [
    {
     "name": "stdout",
     "output_type": "stream",
     "text": [
      "p\n",
      "y\n",
      "t\n",
      "h\n",
      "o\n",
      "n\n"
     ]
    }
   ],
   "source": [
    "a = list(range(1,7))\n",
    "a\n",
    "b =\"python\"\n",
    "for eleman in b :\n",
    "    print(eleman)"
   ]
  },
  {
   "cell_type": "code",
   "execution_count": 19,
   "metadata": {},
   "outputs": [
    {
     "name": "stdout",
     "output_type": "stream",
     "text": [
      "0 [0, 1, 2, 3, 4, 5]\n",
      "1 [0, 1, 2, 3, 4, 5]\n",
      "2 [0, 1, 2, 3, 4, 5]\n",
      "3 [0, 1, 2, 3, 4, 5]\n",
      "4 [0, 1, 2, 3, 4, 5]\n",
      "5 [0, 1, 2, 3, 4, 5]\n"
     ]
    }
   ],
   "source": [
    "a = list(range(6))\n",
    "b =\"python\"\n",
    "for b in a :\n",
    "    print(b,a)"
   ]
  },
  {
   "cell_type": "code",
   "execution_count": 22,
   "metadata": {},
   "outputs": [
    {
     "name": "stdout",
     "output_type": "stream",
     "text": [
      "10\n",
      "20\n",
      "30\n",
      "40\n",
      "50\n",
      "60\n",
      "70\n",
      "80\n",
      "90\n"
     ]
    }
   ],
   "source": [
    "for sayi in range(10,100,10) :\n",
    "    print(sayi)\n"
   ]
  },
  {
   "cell_type": "code",
   "execution_count": 30,
   "metadata": {},
   "outputs": [
    {
     "name": "stdout",
     "output_type": "stream",
     "text": [
      "merhaba\n",
      "nasilsin\n"
     ]
    },
    {
     "ename": "TypeError",
     "evalue": "unsupported operand type(s) for *: 'NoneType' and 'int'",
     "output_type": "error",
     "traceback": [
      "\u001b[1;31m---------------------------------------------------------------------------\u001b[0m",
      "\u001b[1;31mTypeError\u001b[0m                                 Traceback (most recent call last)",
      "\u001b[1;32m<ipython-input-30-2f498c11bb0a>\u001b[0m in \u001b[0;36m<module>\u001b[1;34m\u001b[0m\n\u001b[0;32m      3\u001b[0m     \u001b[0mprint\u001b[0m\u001b[1;33m(\u001b[0m\u001b[1;34m\"merhaba\"\u001b[0m\u001b[1;33m)\u001b[0m\u001b[1;33m\u001b[0m\u001b[1;33m\u001b[0m\u001b[0m\n\u001b[0;32m      4\u001b[0m     \u001b[0mprint\u001b[0m\u001b[1;33m(\u001b[0m\u001b[1;34m\"nasilsin\"\u001b[0m\u001b[1;33m)\u001b[0m\u001b[1;33m\u001b[0m\u001b[1;33m\u001b[0m\u001b[0m\n\u001b[1;32m----> 5\u001b[1;33m \u001b[0mselamla\u001b[0m\u001b[1;33m(\u001b[0m\u001b[1;33m)\u001b[0m\u001b[1;33m*\u001b[0m\u001b[1;36m5\u001b[0m\u001b[1;33m\u001b[0m\u001b[1;33m\u001b[0m\u001b[0m\n\u001b[0m",
      "\u001b[1;31mTypeError\u001b[0m: unsupported operand type(s) for *: 'NoneType' and 'int'"
     ]
    }
   ],
   "source": [
    "#fonksiyonlar\n",
    "def selamla():\n",
    "    print(\"merhaba\")\n",
    "    print(\"nasilsin\")\n",
    "selamla()\n"
   ]
  },
  {
   "cell_type": "code",
   "execution_count": 48,
   "metadata": {},
   "outputs": [
    {
     "name": "stdout",
     "output_type": "stream",
     "text": [
      "merhaba kadsir\n"
     ]
    }
   ],
   "source": [
    "def selamla(isim):\n",
    "    print(\"merhaba\", isim)\n",
    "selamla(\"kadsir\")"
   ]
  },
  {
   "cell_type": "code",
   "execution_count": 55,
   "metadata": {},
   "outputs": [],
   "source": [
    "def selamlar(ne = \"okul\"):\n",
    "    print(\"merhaba\", ne)\n",
    "    selamlar()"
   ]
  },
  {
   "cell_type": "code",
   "execution_count": 59,
   "metadata": {},
   "outputs": [
    {
     "name": "stdout",
     "output_type": "stream",
     "text": [
      "toplam 7\n"
     ]
    }
   ],
   "source": [
    "def toplama(a,b,c) :\n",
    "    print(\"toplam\",a+b+c)\n",
    "toplama(3,1,3)\n"
   ]
  },
  {
   "cell_type": "code",
   "execution_count": 63,
   "metadata": {},
   "outputs": [
    {
     "data": {
      "text/plain": [
       "12"
      ]
     },
     "execution_count": 63,
     "metadata": {},
     "output_type": "execute_result"
    }
   ],
   "source": [
    "#geri cagir\n",
    "def toplama(a,b,c) :\n",
    "    return a+b+c\n",
    "toplama(3,4,5)\n"
   ]
  },
  {
   "cell_type": "code",
   "execution_count": 84,
   "metadata": {},
   "outputs": [
    {
     "name": "stdout",
     "output_type": "stream",
     "text": [
      "6\n",
      "5\n",
      "True\n",
      "False\n",
      "None\n"
     ]
    }
   ],
   "source": [
    "liste = [1,2,3,4,5,6]\n",
    "b = \"araba\"\n",
    "print(len(liste))\n",
    "print(len(b))\n",
    "print(b.startswith(\"ar\"))\n",
    "print(b.endswith(\"ab\"))\n",
    "print(a.sort())"
   ]
  },
  {
   "cell_type": "code",
   "execution_count": 88,
   "metadata": {},
   "outputs": [
    {
     "name": "stdout",
     "output_type": "stream",
     "text": [
      "orobo\n"
     ]
    }
   ],
   "source": [
    "liste = [1,2,3,4,5,6]\n",
    "a = \"araba\"\n",
    "print(a.replace(\"a\", \"o\"))\n"
   ]
  },
  {
   "cell_type": "code",
   "execution_count": 97,
   "metadata": {},
   "outputs": [
    {
     "name": "stdout",
     "output_type": "stream",
     "text": [
      "[1, 2, 3, 4, 5, 6]\n"
     ]
    }
   ],
   "source": [
    "liste = [1,2,3,4,5,6]\n",
    "liste.append(\"python\")\n",
    "\n",
    "liste.pop() # buraya ne verirsen onu cikartir onu listeden cikartir o yuzden o elemani yalniz olarak yazdiriyor \n",
    "print(liste)"
   ]
  },
  {
   "cell_type": "code",
   "execution_count": 102,
   "metadata": {},
   "outputs": [
    {
     "data": {
      "text/plain": [
       "1"
      ]
     },
     "execution_count": 102,
     "metadata": {},
     "output_type": "execute_result"
    }
   ],
   "source": [
    "liste = [1,2,3,4,5,6]\n",
    "liste.append(\"python\")\n",
    "\n",
    "liste.pop(0)"
   ]
  },
  {
   "cell_type": "code",
   "execution_count": 106,
   "metadata": {},
   "outputs": [
    {
     "data": {
      "text/plain": [
       "<function TextIOWrapper.close()>"
      ]
     },
     "execution_count": 106,
     "metadata": {},
     "output_type": "execute_result"
    }
   ],
   "source": [
    "file = open(\"dosya.txt\", \"w\")\n",
    "file.write(\"naber Python\")\n",
    "file.close"
   ]
  },
  {
   "cell_type": "code",
   "execution_count": 118,
   "metadata": {},
   "outputs": [
    {
     "name": "stdout",
     "output_type": "stream",
     "text": [
      "senin ogrenci oldugunu elindeki OKUL ve her yaman kitap olmandan anlarim\n"
     ]
    }
   ],
   "source": [
    "a = \"okul\"\n",
    "b = \"kitap\"\n",
    "#cumle =\"senin ogrenci oldugunu elindeki {} ve her yaman {} olmandan anlarim\".format(b,a)\n",
    "cumle = f'senin ogrenci oldugunu elindeki {a.upper()} ve her yaman {b} olmandan anlarim'\n",
    "print(cumle)"
   ]
  },
  {
   "cell_type": "code",
   "execution_count": 122,
   "metadata": {},
   "outputs": [
    {
     "name": "stdout",
     "output_type": "stream",
     "text": [
      "my name is Corey SHAFER\n"
     ]
    }
   ],
   "source": [
    "first_name = \"corey\"\n",
    "last_name =\"shafer\"\n",
    "#sentence = \"mayname is {} {} \".format(first_name, last_name)\n",
    "sentence = f\"my name is {first_name.capitalize()} {last_name.upper()}\"\n",
    "print(sentence)\n"
   ]
  },
  {
   "cell_type": "code",
   "execution_count": 124,
   "metadata": {},
   "outputs": [
    {
     "name": "stdout",
     "output_type": "stream",
     "text": [
      "may name is jenn and i am 23\n"
     ]
    }
   ],
   "source": [
    "#dictionary format cekme \n",
    "person ={\"name\":\"jenn\",\"age\" :23 }\n",
    "\n",
    "print(sentence)"
   ]
  },
  {
   "cell_type": "code",
   "execution_count": null,
   "metadata": {},
   "outputs": [],
   "source": [
    "person ={\"name\":\"jenn\",\"age\" :23 }\n",
    "sentence = f\"my name is {per}"
   ]
  },
  {
   "cell_type": "code",
   "execution_count": 125,
   "metadata": {},
   "outputs": [
    {
     "data": {
      "text/plain": [
       "66.66666666666667"
      ]
     },
     "execution_count": 125,
     "metadata": {},
     "output_type": "execute_result"
    }
   ],
   "source": [
    "800/12\n"
   ]
  },
  {
   "cell_type": "code",
   "execution_count": null,
   "metadata": {},
   "outputs": [],
   "source": []
  }
 ],
 "metadata": {
  "kernelspec": {
   "display_name": "Python 3",
   "language": "python",
   "name": "python3"
  },
  "language_info": {
   "codemirror_mode": {
    "name": "ipython",
    "version": 3
   },
   "file_extension": ".py",
   "mimetype": "text/x-python",
   "name": "python",
   "nbconvert_exporter": "python",
   "pygments_lexer": "ipython3",
   "version": "3.7.6"
  }
 },
 "nbformat": 4,
 "nbformat_minor": 4
}
