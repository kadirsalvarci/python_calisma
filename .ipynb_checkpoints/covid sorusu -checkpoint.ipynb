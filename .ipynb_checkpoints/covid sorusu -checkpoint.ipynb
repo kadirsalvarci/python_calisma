{
 "cells": [
  {
   "cell_type": "code",
   "execution_count": null,
   "metadata": {},
   "outputs": [],
   "source": [
    "\n",
    "age = str(input(\"Are you a cigarette addict older than 75 years old? yes/no : \")) \n",
    "chronic = str(input(\"Do you have a severe chronic disease? Variable ?yes/no : \"))\n",
    "immunie = str(input(\"Is your immune system too weak?Yes/no : \")) \n",
    "\n",
    "if (age == \"yes\") or (chronic == \"yes\") or (immunie == \"yes\")  :\n",
    "    \n",
    "    print(\"You are  in risky group\")\n",
    "else :\n",
    "    print(\"You are not in risky group\")\n"
   ]
  },
  {
   "cell_type": "code",
   "execution_count": null,
   "metadata": {},
   "outputs": [],
   "source": [
    "print(\"kadir\\nsalvarcioglu\")\n"
   ]
  },
  {
   "cell_type": "code",
   "execution_count": null,
   "metadata": {},
   "outputs": [],
   "source": [
    "print(\"12\",\"12\",\"1983\", sep = \"-\")"
   ]
  },
  {
   "cell_type": "code",
   "execution_count": null,
   "metadata": {},
   "outputs": [],
   "source": [
    "print(\"{},{}\".format(1, 2))"
   ]
  },
  {
   "cell_type": "code",
   "execution_count": null,
   "metadata": {},
   "outputs": [],
   "source": [
    "a=3\n",
    "b=3.14\n",
    "c = \"python\"\n",
    "liste = [1,2,3,4,\"Python\"]\n",
    "touple =(1,2,3,4,\"Python\")\n",
    "sozluk={\"elma\":3, \"armut\":4, \"kiraz\":5}\n",
    "booli=False\n",
    "print(type(a))\n",
    "print(type(c))\n",
    "print(type(b))\n",
    "print(type(liste))\n",
    "print(type(touple))\n",
    "print(type(sozluk))\n",
    "print(type(booli))\n",
    "print(a,b,c)"
   ]
  },
  {
   "cell_type": "code",
   "execution_count": null,
   "metadata": {},
   "outputs": [],
   "source": [
    "print(3+4)"
   ]
  },
  {
   "cell_type": "code",
   "execution_count": null,
   "metadata": {},
   "outputs": [],
   "source": [
    "print(10*3, 10-2, 10//2,10/2, 10+3, 10%3)"
   ]
  },
  {
   "cell_type": "code",
   "execution_count": null,
   "metadata": {},
   "outputs": [],
   "source": [
    "a=\"veli\"\n",
    "b=\"ali\"\n",
    "c=\"okul\"\n",
    "d=a+b+c\n",
    "print(d*5)"
   ]
  },
  {
   "cell_type": "code",
   "execution_count": null,
   "metadata": {},
   "outputs": [],
   "source": [
    "a =\"python\"\n",
    "b =list(range(11))\n",
    "print(a[0])\n",
    "print(a[2])\n",
    "print(len(a))\n",
    "print(a[len(a)-1])\n",
    "print(a[2:])\n",
    "print(b[:2:1])"
   ]
  },
  {
   "cell_type": "code",
   "execution_count": null,
   "metadata": {},
   "outputs": [],
   "source": [
    "#sozluk\n",
    "a ={\"elma\":3,\"armut\":4, \"kiraz\":5}\n",
    "print(a[\"elma\"],a[\"armut\"], sep=\"\\n\")\n"
   ]
  },
  {
   "cell_type": "code",
   "execution_count": null,
   "metadata": {},
   "outputs": [],
   "source": [
    "#input \n",
    "yas = input(\"yasinizi giriniz :\")\n",
    "print(\"yasiniz\", yas, sep=\"\\n\")"
   ]
  },
  {
   "cell_type": "code",
   "execution_count": null,
   "metadata": {},
   "outputs": [],
   "source": [
    "a = input(\"a :\")\n",
    "b = input(\"b :\")\n",
    "c = input(\"c :\")\n",
    "#print(\"toplam :\", a+b+c) bu toplam 344 yazyr cunlu strgin "
   ]
  },
  {
   "cell_type": "code",
   "execution_count": null,
   "metadata": {},
   "outputs": [],
   "source": [
    "a = int(input(\"a :\"))\n",
    "b = int(input(\"b :\"))\n",
    "c = int(input(\"c :\"))\n",
    "print(\"toplam :\", a+b+c)"
   ]
  },
  {
   "cell_type": "code",
   "execution_count": null,
   "metadata": {},
   "outputs": [],
   "source": [
    "#if ler \n",
    "yas = int(input(\"yasinizi giriniz :\"))\n",
    "if yas < 18 :\n",
    "    print(\"giremezsin\")\n",
    "else :\n",
    "    print(\"hosgeldiniz\")\n"
   ]
  },
  {
   "cell_type": "code",
   "execution_count": null,
   "metadata": {},
   "outputs": [],
   "source": [
    "islem = int(input(\"islemi giriniz\"))\n",
    "if islem ==1:\n",
    "    print(\"islem 1' i sectiniz\")\n",
    "elif islem ==2:\n",
    "    print(\"islem 2' i sectiniz\")\n",
    "elif islem ==3 :\n",
    "    print(\"islem 3' i sectiniz\")\n",
    "else :\n",
    "    print(\"gecersiz islem \")"
   ]
  },
  {
   "cell_type": "code",
   "execution_count": null,
   "metadata": {},
   "outputs": [],
   "source": [
    "#mantiksal oparoterler and or ve not\n",
    "a = 3\n",
    "b = 4\n",
    "if a == 3 and b == 5 :\n",
    "    print(\"evet\")\n",
    "else :\n",
    "    print(\"hayir\")\n",
    "    \n"
   ]
  },
  {
   "cell_type": "code",
   "execution_count": null,
   "metadata": {},
   "outputs": [],
   "source": [
    "#mantiksal oparoterler and or ve not\n",
    "a = 3\n",
    "b = 4\n",
    "if a == 3 or b == 5 :\n",
    "    print(\"evet\")\n",
    "else :\n",
    "    print(\"hayir\")"
   ]
  },
  {
   "cell_type": "code",
   "execution_count": null,
   "metadata": {},
   "outputs": [],
   "source": [
    "if (not (2==4)) : #sonuc false ama not false true oldugundad if de true ise yazdiriyor \n",
    "    print(\"evet\")\n",
    "    \n"
   ]
  },
  {
   "cell_type": "code",
   "execution_count": null,
   "metadata": {},
   "outputs": [],
   "source": [
    "#dongu yapilari  while surekli bir dongu kosul dogru ise devamliyalisiyor \n",
    "i = 0\n",
    "while i < 10 :\n",
    "    print(\"i:\", i)\n",
    "    i = i + 1 # veya i += 1 de olur i 2 serli yada 3 erli syam gibi\n",
    "\n",
    "    "
   ]
  },
  {
   "cell_type": "code",
   "execution_count": null,
   "metadata": {},
   "outputs": [],
   "source": [
    "i  = 1\n",
    "while i <1000 :\n",
    "    print(\"i :\", i)\n",
    "    i *=2\n",
    "    \n"
   ]
  },
  {
   "cell_type": "code",
   "execution_count": null,
   "metadata": {},
   "outputs": [],
   "source": [
    "#break and continue\n",
    "i = 0                               #dorde kadar gitti 5 de sonlandirdik \n",
    "while (i<10) :\n",
    "    if i == 5 :\n",
    "        break\n",
    "    print (\"i :\", i)\n",
    "    i +=1"
   ]
  },
  {
   "cell_type": "code",
   "execution_count": null,
   "metadata": {},
   "outputs": [],
   "source": [
    "i = 0                               #dorde kadar gitti 5 de sonlandirdik aslinda burda devamli donuyor \n",
    "while (i<10) :\n",
    "    if i == 3 or i ==5 :\n",
    "        i += 1\n",
    "        continue\n",
    "    print (\"i :\", i)\n",
    "    i +=1"
   ]
  },
  {
   "cell_type": "code",
   "execution_count": null,
   "metadata": {},
   "outputs": [],
   "source": []
  }
 ],
 "metadata": {
  "kernelspec": {
   "display_name": "Python 3",
   "language": "python",
   "name": "python3"
  },
  "language_info": {
   "codemirror_mode": {
    "name": "ipython",
    "version": 3
   },
   "file_extension": ".py",
   "mimetype": "text/x-python",
   "name": "python",
   "nbconvert_exporter": "python",
   "pygments_lexer": "ipython3",
   "version": "3.7.6"
  }
 },
 "nbformat": 4,
 "nbformat_minor": 4
}
